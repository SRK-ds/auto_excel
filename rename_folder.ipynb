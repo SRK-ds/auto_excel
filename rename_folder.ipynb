{
 "cells": [
  {
   "cell_type": "code",
   "execution_count": 1,
   "metadata": {},
   "outputs": [],
   "source": [
    "import os\n",
    "import re\n",
    "\n",
    "def rename_folders_with_excel_info(base_directory):\n",
    "    # base_directory: 작업할 최상위 폴더 경로\n",
    "    for folder in os.listdir(base_directory):\n",
    "        folder_path = os.path.join(base_directory, folder)\n",
    "\n",
    "        # 폴더만 탐색\n",
    "        if os.path.isdir(folder_path):\n",
    "            # 해당 폴더 내 파일 탐색\n",
    "            excel_files = [f for f in os.listdir(folder_path) if f.endswith(('.xlsx', '.xls'))]\n",
    "\n",
    "            if len(excel_files) == 1:  # 엑셀 파일이 한 개만 있는 경우\n",
    "                excel_file_name = os.path.splitext(excel_files[0])[0]  # 확장자를 제외한 파일 이름\n",
    "                \n",
    "                # 정규식으로 접수번호와 이름 추출 (한예지_0000_이름)\n",
    "                match = re.match(r'.*_(\\d{4})_(.+)', excel_file_name)\n",
    "                if match:\n",
    "                    reception_number = match.group(1)  # 접수번호\n",
    "                    name = match.group(2)             # 이름\n",
    "                    new_folder_name = f\"{reception_number}_{name}\"\n",
    "                    new_folder_path = os.path.join(base_directory, new_folder_name)\n",
    "\n",
    "                    try:\n",
    "                        os.rename(folder_path, new_folder_path)\n",
    "                        print(f\"Renamed folder '{folder}' to '{new_folder_name}'\")\n",
    "                    except Exception as e:\n",
    "                        print(f\"Error renaming folder '{folder}' to '{new_folder_name}': {e}\")\n",
    "                else:\n",
    "                    print(f\"Skipping folder '{folder}': Excel file name format invalid ('{excel_file_name}')\")\n",
    "            else:\n",
    "                print(f\"Skipping folder '{folder}': Expected 1 Excel file, found {len(excel_files)}\")\n",
    "\n",
    "# 실행\n",
    "base_directory = r\"C:\\Users\\NT551\\Desktop\\test\\폴더 이름 변경\"  # 작업할 최상위 디렉토리 경로\n"
   ]
  },
  {
   "cell_type": "code",
   "execution_count": 2,
   "metadata": {},
   "outputs": [
    {
     "name": "stdout",
     "output_type": "stream",
     "text": [
      "Renamed folder '강화신 ㅇ' to '3634_강화신'\n",
      "Renamed folder '권수민 D' to '2499_권수민_대리인터뷰'\n",
      "Renamed folder '권예준 ㅇ' to '2511_권예준'\n",
      "Renamed folder '김규정 ㅇ' to '2495_김규정'\n",
      "Renamed folder '김금태 d' to '3695_김금태'\n",
      "Renamed folder '김대욱 d' to '3631_김대욱'\n",
      "Renamed folder '김미은 d' to '2517_김미은'\n",
      "Renamed folder '김민식 ㅇ' to '2515_김민식'\n",
      "Renamed folder '김성미 d' to '3679_김성미'\n",
      "Renamed folder '김성숙 ㅇ' to '2510_김성숙'\n",
      "Renamed folder '김승훈 D' to '2509_김승훈 '\n",
      "Renamed folder '김영걸 d' to '3643_김영걸'\n",
      "Renamed folder '김은미 d' to '3680_김은미'\n",
      "Renamed folder '김정례 d' to '2465_김정례'\n",
      "Renamed folder '김정수d' to '3697_김정수'\n",
      "Renamed folder '김종기 d' to '3669_김종기'\n",
      "Renamed folder '김지은 d' to '2512_김지은'\n",
      "Renamed folder '김지현 d' to '3651_김지현'\n",
      "Renamed folder '김홍하 d' to '3665_김홍하'\n",
      "Renamed folder '김희자 d' to '3670_김희자'\n",
      "Renamed folder '박노덕 d' to '3658_박노덕'\n",
      "Renamed folder '박미란 d' to '3696_박미란'\n",
      "Renamed folder '박연숙 ㅇ' to '2461_박연숙_대리인터뷰'\n",
      "Renamed folder '박지양 ㅇ' to '3641_박지영'\n",
      "Renamed folder '손현경 ㅇ' to '3635_손현경'\n",
      "Renamed folder '신길순 d' to '3640_신길순'\n",
      "Renamed folder '신나라 d' to '2513_신나라'\n",
      "Renamed folder '안현자 d' to '3644_안현자'\n",
      "Renamed folder '연왕석 d' to '2514_연왕석 '\n",
      "Renamed folder '우지희 d' to '3675_우지희'\n",
      "Renamed folder '이아름 d' to '3655_이아름'\n",
      "Renamed folder '이영미 d' to '2496_이영미_대리인터뷰'\n",
      "Renamed folder '이영선 d' to '3654_이영선'\n",
      "Renamed folder '이은랑 ㅇ' to '3648_이은랑'\n",
      "Renamed folder '이재철 d' to '3663_이재철'\n",
      "Renamed folder '이희랑 d' to '3660_이희랑'\n",
      "Renamed folder '임서빈 ㅇ' to '3647_임서빈'\n",
      "Renamed folder '전대평 d' to '3653_전대평'\n",
      "Renamed folder '전동철' to '3661_전동철'\n",
      "Renamed folder '정계순 ㅇ' to '2481_정계순'\n",
      "Renamed folder '정천익 d' to '2482_정천익_대리인터뷰'\n",
      "Renamed folder '정호경 d' to '3642_정호경'\n",
      "Renamed folder '진은경 d' to '3681_진은경'\n",
      "Renamed folder '최영환 ㅇ' to '3632_최영환'\n",
      "Renamed folder '최윤정 d' to '3664_최윤정'\n",
      "Renamed folder '최인홍 d' to '3656_최인홍'\n",
      "Renamed folder '최재환 d' to '3682_최재환'\n",
      "Renamed folder '한유기 d' to '3671_한유기'\n",
      "Renamed folder '현하나 d' to '3683_현하나'\n",
      "Renamed folder '황성연 d' to '3649_황성연'\n",
      "Renamed folder '황호익 d' to '3668_황호익'\n"
     ]
    }
   ],
   "source": [
    "rename_folders_with_excel_info(base_directory)"
   ]
  },
  {
   "cell_type": "code",
   "execution_count": null,
   "metadata": {},
   "outputs": [],
   "source": []
  }
 ],
 "metadata": {
  "kernelspec": {
   "display_name": "Python 3",
   "language": "python",
   "name": "python3"
  },
  "language_info": {
   "codemirror_mode": {
    "name": "ipython",
    "version": 3
   },
   "file_extension": ".py",
   "mimetype": "text/x-python",
   "name": "python",
   "nbconvert_exporter": "python",
   "pygments_lexer": "ipython3",
   "version": "3.11.9"
  }
 },
 "nbformat": 4,
 "nbformat_minor": 2
}
